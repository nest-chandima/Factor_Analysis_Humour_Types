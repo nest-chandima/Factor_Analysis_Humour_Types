{
 "cells": [
  {
   "cell_type": "markdown",
   "metadata": {
    "id": "vulUwwYdi4yM"
   },
   "source": [
    "### ワーク2 : データの把握\n",
    "\n"
   ]
  },
  {
   "cell_type": "code",
   "execution_count": 1,
   "metadata": {
    "id": "mQPF5Uv6i4yN"
   },
   "outputs": [],
   "source": [
    "# 必要なモジュールのインポート\n",
    "import numpy as np\n",
    "import pandas as pd\n",
    "import matplotlib.pyplot as plt\n",
    "import seaborn as sns\n",
    "plt.rcParams['font.sans-serif'] = ['Hiragino Maru Gothic Pro', 'Yu Gothic']"
   ]
  },
  {
   "cell_type": "code",
   "execution_count": 2,
   "metadata": {
    "id": "DldPr7sTi4yN"
   },
   "outputs": [
    {
     "data": {
      "text/html": [
       "<div>\n",
       "<style scoped>\n",
       "    .dataframe tbody tr th:only-of-type {\n",
       "        vertical-align: middle;\n",
       "    }\n",
       "\n",
       "    .dataframe tbody tr th {\n",
       "        vertical-align: top;\n",
       "    }\n",
       "\n",
       "    .dataframe thead th {\n",
       "        text-align: right;\n",
       "    }\n",
       "</style>\n",
       "<table border=\"1\" class=\"dataframe\">\n",
       "  <thead>\n",
       "    <tr style=\"text-align: right;\">\n",
       "      <th></th>\n",
       "      <th>Q1</th>\n",
       "      <th>Q2</th>\n",
       "      <th>Q3</th>\n",
       "      <th>Q4</th>\n",
       "      <th>Q5</th>\n",
       "      <th>Q6</th>\n",
       "      <th>Q7</th>\n",
       "      <th>Q8</th>\n",
       "      <th>Q9</th>\n",
       "      <th>Q10</th>\n",
       "      <th>...</th>\n",
       "      <th>Q30</th>\n",
       "      <th>Q31</th>\n",
       "      <th>Q32</th>\n",
       "      <th>affiliative</th>\n",
       "      <th>selfenhancing</th>\n",
       "      <th>agressive</th>\n",
       "      <th>selfdefeating</th>\n",
       "      <th>age</th>\n",
       "      <th>gender</th>\n",
       "      <th>accuracy</th>\n",
       "    </tr>\n",
       "  </thead>\n",
       "  <tbody>\n",
       "    <tr>\n",
       "      <th>0</th>\n",
       "      <td>2</td>\n",
       "      <td>2</td>\n",
       "      <td>3</td>\n",
       "      <td>1</td>\n",
       "      <td>4</td>\n",
       "      <td>5</td>\n",
       "      <td>4</td>\n",
       "      <td>3</td>\n",
       "      <td>4</td>\n",
       "      <td>3</td>\n",
       "      <td>...</td>\n",
       "      <td>4</td>\n",
       "      <td>2</td>\n",
       "      <td>2</td>\n",
       "      <td>4.0</td>\n",
       "      <td>3.5</td>\n",
       "      <td>3.0</td>\n",
       "      <td>2.3</td>\n",
       "      <td>25</td>\n",
       "      <td>2</td>\n",
       "      <td>100</td>\n",
       "    </tr>\n",
       "    <tr>\n",
       "      <th>1</th>\n",
       "      <td>2</td>\n",
       "      <td>3</td>\n",
       "      <td>2</td>\n",
       "      <td>2</td>\n",
       "      <td>4</td>\n",
       "      <td>4</td>\n",
       "      <td>4</td>\n",
       "      <td>3</td>\n",
       "      <td>4</td>\n",
       "      <td>3</td>\n",
       "      <td>...</td>\n",
       "      <td>4</td>\n",
       "      <td>3</td>\n",
       "      <td>1</td>\n",
       "      <td>3.3</td>\n",
       "      <td>3.5</td>\n",
       "      <td>3.3</td>\n",
       "      <td>2.4</td>\n",
       "      <td>44</td>\n",
       "      <td>2</td>\n",
       "      <td>90</td>\n",
       "    </tr>\n",
       "    <tr>\n",
       "      <th>2</th>\n",
       "      <td>3</td>\n",
       "      <td>4</td>\n",
       "      <td>3</td>\n",
       "      <td>3</td>\n",
       "      <td>4</td>\n",
       "      <td>4</td>\n",
       "      <td>3</td>\n",
       "      <td>1</td>\n",
       "      <td>2</td>\n",
       "      <td>4</td>\n",
       "      <td>...</td>\n",
       "      <td>5</td>\n",
       "      <td>4</td>\n",
       "      <td>2</td>\n",
       "      <td>3.9</td>\n",
       "      <td>3.9</td>\n",
       "      <td>3.1</td>\n",
       "      <td>2.3</td>\n",
       "      <td>50</td>\n",
       "      <td>1</td>\n",
       "      <td>75</td>\n",
       "    </tr>\n",
       "    <tr>\n",
       "      <th>3</th>\n",
       "      <td>3</td>\n",
       "      <td>3</td>\n",
       "      <td>3</td>\n",
       "      <td>4</td>\n",
       "      <td>3</td>\n",
       "      <td>5</td>\n",
       "      <td>4</td>\n",
       "      <td>3</td>\n",
       "      <td>-1</td>\n",
       "      <td>4</td>\n",
       "      <td>...</td>\n",
       "      <td>5</td>\n",
       "      <td>3</td>\n",
       "      <td>3</td>\n",
       "      <td>3.6</td>\n",
       "      <td>4.0</td>\n",
       "      <td>2.9</td>\n",
       "      <td>3.3</td>\n",
       "      <td>30</td>\n",
       "      <td>2</td>\n",
       "      <td>85</td>\n",
       "    </tr>\n",
       "    <tr>\n",
       "      <th>4</th>\n",
       "      <td>1</td>\n",
       "      <td>4</td>\n",
       "      <td>2</td>\n",
       "      <td>2</td>\n",
       "      <td>3</td>\n",
       "      <td>5</td>\n",
       "      <td>4</td>\n",
       "      <td>1</td>\n",
       "      <td>4</td>\n",
       "      <td>4</td>\n",
       "      <td>...</td>\n",
       "      <td>5</td>\n",
       "      <td>4</td>\n",
       "      <td>2</td>\n",
       "      <td>4.1</td>\n",
       "      <td>4.1</td>\n",
       "      <td>2.9</td>\n",
       "      <td>2.0</td>\n",
       "      <td>52</td>\n",
       "      <td>1</td>\n",
       "      <td>80</td>\n",
       "    </tr>\n",
       "  </tbody>\n",
       "</table>\n",
       "<p>5 rows × 39 columns</p>\n",
       "</div>"
      ],
      "text/plain": [
       "   Q1  Q2  Q3  Q4  Q5  Q6  Q7  Q8  Q9  Q10  ...  Q30  Q31  Q32  affiliative  \\\n",
       "0   2   2   3   1   4   5   4   3   4    3  ...    4    2    2          4.0   \n",
       "1   2   3   2   2   4   4   4   3   4    3  ...    4    3    1          3.3   \n",
       "2   3   4   3   3   4   4   3   1   2    4  ...    5    4    2          3.9   \n",
       "3   3   3   3   4   3   5   4   3  -1    4  ...    5    3    3          3.6   \n",
       "4   1   4   2   2   3   5   4   1   4    4  ...    5    4    2          4.1   \n",
       "\n",
       "   selfenhancing  agressive  selfdefeating  age  gender  accuracy  \n",
       "0            3.5        3.0            2.3   25       2       100  \n",
       "1            3.5        3.3            2.4   44       2        90  \n",
       "2            3.9        3.1            2.3   50       1        75  \n",
       "3            4.0        2.9            3.3   30       2        85  \n",
       "4            4.1        2.9            2.0   52       1        80  \n",
       "\n",
       "[5 rows x 39 columns]"
      ]
     },
     "execution_count": 2,
     "metadata": {},
     "output_type": "execute_result"
    }
   ],
   "source": [
    "# データの読み込みと確認\n",
    "df = pd.read_csv(\"./data.csv\")\n",
    "df.head()"
   ]
  },
  {
   "cell_type": "code",
   "execution_count": 3,
   "metadata": {},
   "outputs": [
    {
     "data": {
      "text/plain": [
       "Q1     0\n",
       "Q2     0\n",
       "Q3     0\n",
       "Q4     0\n",
       "Q5     0\n",
       "Q6     0\n",
       "Q7     0\n",
       "Q8     0\n",
       "Q9     0\n",
       "Q10    0\n",
       "Q11    0\n",
       "Q12    0\n",
       "Q13    0\n",
       "Q14    0\n",
       "Q15    0\n",
       "Q16    0\n",
       "Q17    0\n",
       "Q18    0\n",
       "Q19    0\n",
       "Q20    0\n",
       "Q21    0\n",
       "Q22    0\n",
       "Q23    0\n",
       "Q24    0\n",
       "Q25    0\n",
       "Q26    0\n",
       "Q27    0\n",
       "Q28    0\n",
       "Q29    0\n",
       "Q30    0\n",
       "Q31    0\n",
       "dtype: int64"
      ]
     },
     "execution_count": 3,
     "metadata": {},
     "output_type": "execute_result"
    }
   ],
   "source": [
    "df = df.iloc[:,:31]\n",
    "df.isnull().sum()"
   ]
  },
  {
   "cell_type": "markdown",
   "metadata": {
    "id": "twUv5X3ii4yO"
   },
   "source": [
    "\n",
    "質問項目は以下の31項目。\n",
    "\n",
    "Q1. I usually don't laugh or joke around much with other people.\n",
    "\n",
    "Q2. If I am feeling depressed, I can usually cheer myself up with humor.\n",
    "\n",
    "Q3. If someone makes a mistake, I will often tease them about it.\n",
    "\n",
    "Q4. I let people laugh at me or make fun at my expense more than I should.\n",
    "\n",
    "Q5. I don't have to work very hard at making other people laugh'I seem to be a naturally humorous person.\n",
    "\n",
    "Q6. Even when I'm by myself, I'm often amused by the absurdities of life.\n",
    "\n",
    "Q7. People are never offended or hurt by my sense of humor.\n",
    "\n",
    "Q8. I will often get carried away in putting myself down if it makes my family or friends laugh.\n",
    "\n",
    "Q9. I rarely make other people laugh by telling funny stories about myself.\n",
    "\n",
    "Q10. If I am feeling upset or unhappy I usually try to think of something funny about the situation to make myself feel better.\n",
    "\n",
    "Q11. When telling jokes or saying funny things, I am usually not very concerned about how other people are taking it.\n",
    "\n",
    "Q12. I often try to make people like or accept me more by saying something funny about my own weaknesses, blunders, or faults.\n",
    "\n",
    "Q13. I laugh and joke a lot with my closest friends.\n",
    "\n",
    "Q14. My humorous outlook on life keeps me from getting overly upset or depressed about things.\n",
    "\n",
    "Q15. I do not like it when people use humor as a way of criticizing or putting someone down.\n",
    "\n",
    "Q16. I don't often say funny things to put myself down.\n",
    "\n",
    "Q17. I usually don't like to tell jokes or amuse people.\n",
    "\n",
    "Q18. If I'm by myself and I'm feeling unhappy, I make an effort to think of something funny to cheer myself up.\n",
    "\n",
    "Q19. Sometimes I think of something that is so funny that I can�t stop myself from saying it, even if it is not appropriate for the situation.\n",
    "\n",
    "Q20. I often go overboard in putting myself down when I am making jokes or trying to be funny.\n",
    "\n",
    "Q21. I enjoy making people laugh.\n",
    "\n",
    "Q22. If I am feeling sad or upset, I usually lose my sense of humor.\n",
    "\n",
    "Q23. I never participate in laughing at others even if all my friends are doing it.\n",
    "\n",
    "Q24. When I am with friends or family, I often seem to be the one that other people make fun of or joke about.\n",
    "\n",
    "Q25. I don't often joke around with my friends.\n",
    "\n",
    "Q26. It is my experience that thinking about some amusing aspect of a situation is often a very effective way of coping with problems.\n",
    "\n",
    "Q27. If I don't like someone, I often use humor or teasing to put them down.\n",
    "\n",
    "Q28. If I am having problems or feeling unhappy, I often cover it up by joking around, so that even my closest friends don't know how I really feel.\n",
    "\n",
    "Q29. I usually can't think of witty things to say when I'm with other people.\n",
    "\n",
    "Q30. I don't need to be with other people to feel amused I can usually find things to laugh about even when I'm by myself.\n",
    "\n",
    "Q31. Even if something is really funny to me, I will not laugh or joke about it if someone will be offended.\n",
    "\n",
    "\n",
    "\n",
    "質問への回答は以下の5段階の内から選択する。\n",
    "\n",
    "1. 当てはまらない\n",
    "2. あまり当てはまらない\n",
    "3. 時々当てはまる\n",
    "4. 当てはまる\n",
    "5. とても当てはまる"
   ]
  },
  {
   "cell_type": "markdown",
   "metadata": {
    "id": "utweoRxbi4yO"
   },
   "source": [
    "<div style=\"page-break-after: always;\"></div>\n",
    "\n",
    "###  因子数の決定"
   ]
  },
  {
   "cell_type": "code",
   "execution_count": 4,
   "metadata": {
    "id": "h4icdfOQi4yP"
   },
   "outputs": [
    {
     "data": {
      "text/html": [
       "<style>#sk-container-id-1 {color: black;background-color: white;}#sk-container-id-1 pre{padding: 0;}#sk-container-id-1 div.sk-toggleable {background-color: white;}#sk-container-id-1 label.sk-toggleable__label {cursor: pointer;display: block;width: 100%;margin-bottom: 0;padding: 0.3em;box-sizing: border-box;text-align: center;}#sk-container-id-1 label.sk-toggleable__label-arrow:before {content: \"▸\";float: left;margin-right: 0.25em;color: #696969;}#sk-container-id-1 label.sk-toggleable__label-arrow:hover:before {color: black;}#sk-container-id-1 div.sk-estimator:hover label.sk-toggleable__label-arrow:before {color: black;}#sk-container-id-1 div.sk-toggleable__content {max-height: 0;max-width: 0;overflow: hidden;text-align: left;background-color: #f0f8ff;}#sk-container-id-1 div.sk-toggleable__content pre {margin: 0.2em;color: black;border-radius: 0.25em;background-color: #f0f8ff;}#sk-container-id-1 input.sk-toggleable__control:checked~div.sk-toggleable__content {max-height: 200px;max-width: 100%;overflow: auto;}#sk-container-id-1 input.sk-toggleable__control:checked~label.sk-toggleable__label-arrow:before {content: \"▾\";}#sk-container-id-1 div.sk-estimator input.sk-toggleable__control:checked~label.sk-toggleable__label {background-color: #d4ebff;}#sk-container-id-1 div.sk-label input.sk-toggleable__control:checked~label.sk-toggleable__label {background-color: #d4ebff;}#sk-container-id-1 input.sk-hidden--visually {border: 0;clip: rect(1px 1px 1px 1px);clip: rect(1px, 1px, 1px, 1px);height: 1px;margin: -1px;overflow: hidden;padding: 0;position: absolute;width: 1px;}#sk-container-id-1 div.sk-estimator {font-family: monospace;background-color: #f0f8ff;border: 1px dotted black;border-radius: 0.25em;box-sizing: border-box;margin-bottom: 0.5em;}#sk-container-id-1 div.sk-estimator:hover {background-color: #d4ebff;}#sk-container-id-1 div.sk-parallel-item::after {content: \"\";width: 100%;border-bottom: 1px solid gray;flex-grow: 1;}#sk-container-id-1 div.sk-label:hover label.sk-toggleable__label {background-color: #d4ebff;}#sk-container-id-1 div.sk-serial::before {content: \"\";position: absolute;border-left: 1px solid gray;box-sizing: border-box;top: 0;bottom: 0;left: 50%;z-index: 0;}#sk-container-id-1 div.sk-serial {display: flex;flex-direction: column;align-items: center;background-color: white;padding-right: 0.2em;padding-left: 0.2em;position: relative;}#sk-container-id-1 div.sk-item {position: relative;z-index: 1;}#sk-container-id-1 div.sk-parallel {display: flex;align-items: stretch;justify-content: center;background-color: white;position: relative;}#sk-container-id-1 div.sk-item::before, #sk-container-id-1 div.sk-parallel-item::before {content: \"\";position: absolute;border-left: 1px solid gray;box-sizing: border-box;top: 0;bottom: 0;left: 50%;z-index: -1;}#sk-container-id-1 div.sk-parallel-item {display: flex;flex-direction: column;z-index: 1;position: relative;background-color: white;}#sk-container-id-1 div.sk-parallel-item:first-child::after {align-self: flex-end;width: 50%;}#sk-container-id-1 div.sk-parallel-item:last-child::after {align-self: flex-start;width: 50%;}#sk-container-id-1 div.sk-parallel-item:only-child::after {width: 0;}#sk-container-id-1 div.sk-dashed-wrapped {border: 1px dashed gray;margin: 0 0.4em 0.5em 0.4em;box-sizing: border-box;padding-bottom: 0.4em;background-color: white;}#sk-container-id-1 div.sk-label label {font-family: monospace;font-weight: bold;display: inline-block;line-height: 1.2em;}#sk-container-id-1 div.sk-label-container {text-align: center;}#sk-container-id-1 div.sk-container {/* jupyter's `normalize.less` sets `[hidden] { display: none; }` but bootstrap.min.css set `[hidden] { display: none !important; }` so we also need the `!important` here to be able to override the default hidden behavior on the sphinx rendered scikit-learn.org. See: https://github.com/scikit-learn/scikit-learn/issues/21755 */display: inline-block !important;position: relative;}#sk-container-id-1 div.sk-text-repr-fallback {display: none;}</style><div id=\"sk-container-id-1\" class=\"sk-top-container\"><div class=\"sk-text-repr-fallback\"><pre>FactorAnalyzer(n_factors=31, rotation=None, rotation_kwargs={})</pre><b>In a Jupyter environment, please rerun this cell to show the HTML representation or trust the notebook. <br />On GitHub, the HTML representation is unable to render, please try loading this page with nbviewer.org.</b></div><div class=\"sk-container\" hidden><div class=\"sk-item\"><div class=\"sk-estimator sk-toggleable\"><input class=\"sk-toggleable__control sk-hidden--visually\" id=\"sk-estimator-id-1\" type=\"checkbox\" checked><label for=\"sk-estimator-id-1\" class=\"sk-toggleable__label sk-toggleable__label-arrow\">FactorAnalyzer</label><div class=\"sk-toggleable__content\"><pre>FactorAnalyzer(n_factors=31, rotation=None, rotation_kwargs={})</pre></div></div></div></div></div>"
      ],
      "text/plain": [
       "FactorAnalyzer(n_factors=31, rotation=None, rotation_kwargs={})"
      ]
     },
     "execution_count": 4,
     "metadata": {},
     "output_type": "execute_result"
    }
   ],
   "source": [
    "# 回転を行わない因子分析モデルによる因子負荷量の推定\n",
    "from factor_analyzer import FactorAnalyzer\n",
    "n_var = len(df.columns)\n",
    "fa = FactorAnalyzer(n_factors=n_var,rotation=None)\n",
    "fa.fit(df)"
   ]
  },
  {
   "cell_type": "code",
   "execution_count": 5,
   "metadata": {
    "id": "vBbiKi5Ji4yP"
   },
   "outputs": [
    {
     "data": {
      "image/png": "[encoded data removed]",
      "text/plain": [
       "<Figure size 640x480 with 1 Axes>"
      ]
     },
     "metadata": {},
     "output_type": "display_data"
    }
   ],
   "source": [
    "# スクリープロットの描画\n",
    "plt.plot(fa.get_eigenvalues()[1],marker=\"o\")\n",
    "plt.hlines(0,0,n_var,linestyles=\"--\", color=\"red\")\n",
    "plt.hlines(1,0,n_var,linestyles=\"--\", color=\"black\")\n",
    "plt.show()"
   ]
  },
  {
   "cell_type": "markdown",
   "metadata": {
    "id": "NMGmyUjWi4yP"
   },
   "source": [
    "the slope of the graph will slightly reduce after 5th position and also the value is getting lower than one Therefore I select the number of factor(因子数) as 5\n"
   ]
  },
  {
   "cell_type": "code",
   "execution_count": 6,
   "metadata": {
    "id": "PeGce2WDi4yP"
   },
   "outputs": [],
   "source": [
    "# 因子数の決定\n",
    "n_fact = 5"
   ]
  },
  {
   "cell_type": "markdown",
   "metadata": {
    "id": "tjYb-RzFi4yP"
   },
   "source": [
    "###  回転方法の決定"
   ]
  },
  {
   "cell_type": "code",
   "execution_count": 7,
   "metadata": {
    "id": "x-ZnlpH7i4yQ"
   },
   "outputs": [],
   "source": [
    "# 複数の回転による因子負荷量絶対値の取得\n",
    "models = {}\n",
    "loadings_abs_s = {}\n",
    "rotations = [\"varimax\",\"promax\"]# ここを実装する\n",
    "for rot in rotations:\n",
    "    fa = FactorAnalyzer(n_factors=n_fact, rotation=rot)# ここを実装する\n",
    "    fa.fit(df) # ここを実装する\n",
    "    models[rot] = fa\n",
    "    loadings_abs_s[rot] = np.abs(fa.loadings_)# ここを実装する"
   ]
  },
  {
   "cell_type": "code",
   "execution_count": 8,
   "metadata": {
    "id": "MlRxCruAi4yQ"
   },
   "outputs": [
    {
     "data": {
      "image/png": "[encoded data removed]",
      "text/plain": [
       "<Figure size 1200x500 with 2 Axes>"
      ]
     },
     "metadata": {},
     "output_type": "display_data"
    },
    {
     "data": {
      "image/png": "[encoded data removed]",
      "text/plain": [
       "<Figure size 1200x500 with 2 Axes>"
      ]
     },
     "metadata": {},
     "output_type": "display_data"
    }
   ],
   "source": [
    "# 各回転の因子負荷量絶対値のヒートマップの描画\n",
    "for rot in rotations:\n",
    "    plt.figure(figsize=(12,5))\n",
    "    sns.heatmap(loadings_abs_s[rot])\n",
    "    plt.title(rot)\n",
    "    plt.show()"
   ]
  },
  {
   "cell_type": "markdown",
   "metadata": {
    "id": "DISkW3o1i4yQ"
   },
   "source": [
    "If you look at the results of varimax, promax,\n",
    "I select promax because Promax shows strong relationship between factors and variables"
   ]
  },
  {
   "cell_type": "code",
   "execution_count": 9,
   "metadata": {
    "id": "-9dtDMCxi4yQ"
   },
   "outputs": [],
   "source": [
    "# 回転方法の決定\n",
    "rot =  \"promax\"\n",
    "fa = models[rot]\n",
    "loadings_abs = loadings_abs_s[rot]"
   ]
  },
  {
   "cell_type": "markdown",
   "metadata": {
    "id": "PbLFtdaWi4yQ"
   },
   "source": [
    "###  観測変数の取捨選択"
   ]
  },
  {
   "cell_type": "code",
   "execution_count": 10,
   "metadata": {
    "id": "hSwipswsi4yQ"
   },
   "outputs": [
    {
     "data": {
      "image/png": "[encoded data removed]",
      "text/plain": [
       "<Figure size 640x480 with 1 Axes>"
      ]
     },
     "metadata": {},
     "output_type": "display_data"
    }
   ],
   "source": [
    "# 共通性の確認\n",
    "commu_line = 0.5**2\n",
    "commu_promax = fa.get_communalities()\n",
    "plt.plot(commu_promax, marker=\"o\") \n",
    "plt.xlim(xmin=0, xmax=n_var-1)\n",
    "plt.ylim(ymin=0, ymax=1)\n",
    "plt.xticks(np.arange(n_var))\n",
    "plt.hlines(commu_line,0,n_var,\"r\")\n",
    "plt.show()"
   ]
  },
  {
   "cell_type": "code",
   "execution_count": 11,
   "metadata": {
    "id": "aUvfEhBli4yQ"
   },
   "outputs": [
    {
     "name": "stdout",
     "output_type": "stream",
     "text": [
      "Number of factor loadings above the threshold: 9\n"
     ]
    }
   ],
   "source": [
    "# 各観測変数で因子負荷量が基準値を超える数の確認\n",
    "load_line = 0.5 \n",
    "load_above = fa.get_communalities()\n",
    "\n",
    "# Count the number of factor loadings above the threshold\n",
    "n_load_above = sum(load > load_line for load in load_above)\n",
    "\n",
    "print(\"Number of factor loadings above the threshold:\", n_load_above)"
   ]
  },
  {
   "cell_type": "markdown",
   "metadata": {
    "id": "zjM0Q9VMi4yQ"
   },
   "source": [
    "各観測変数の共通性は0.5ため、9と言える。  \n",
    "\n",
    "今回は、0.5ため9。"
   ]
  },
  {
   "cell_type": "markdown",
   "metadata": {
    "id": "Zim0z9H3i4yR"
   },
   "source": [
    "<div style=\"page-break-after: always;\"></div>\n",
    "\n",
    "###  因子負荷量の基準値の決定"
   ]
  },
  {
   "cell_type": "code",
   "execution_count": 12,
   "metadata": {
    "id": "5sooGHlvi4yR"
   },
   "outputs": [
    {
     "data": {
      "text/html": [
       "<div>\n",
       "<style scoped>\n",
       "    .dataframe tbody tr th:only-of-type {\n",
       "        vertical-align: middle;\n",
       "    }\n",
       "\n",
       "    .dataframe tbody tr th {\n",
       "        vertical-align: top;\n",
       "    }\n",
       "\n",
       "    .dataframe thead th {\n",
       "        text-align: right;\n",
       "    }\n",
       "</style>\n",
       "<table border=\"1\" class=\"dataframe\">\n",
       "  <thead>\n",
       "    <tr style=\"text-align: right;\">\n",
       "      <th></th>\n",
       "      <th>fact0</th>\n",
       "      <th>fact1</th>\n",
       "      <th>fact2</th>\n",
       "      <th>fact3</th>\n",
       "      <th>fact4</th>\n",
       "    </tr>\n",
       "  </thead>\n",
       "  <tbody>\n",
       "    <tr>\n",
       "      <th>Q1</th>\n",
       "      <td>0.677369</td>\n",
       "      <td>0.037043</td>\n",
       "      <td>-0.022737</td>\n",
       "      <td>-0.025560</td>\n",
       "      <td>0.040968</td>\n",
       "    </tr>\n",
       "    <tr>\n",
       "      <th>Q2</th>\n",
       "      <td>-0.009393</td>\n",
       "      <td>0.682098</td>\n",
       "      <td>0.002697</td>\n",
       "      <td>0.015884</td>\n",
       "      <td>-0.277694</td>\n",
       "    </tr>\n",
       "    <tr>\n",
       "      <th>Q3</th>\n",
       "      <td>-0.105992</td>\n",
       "      <td>0.011391</td>\n",
       "      <td>0.075959</td>\n",
       "      <td>-0.513084</td>\n",
       "      <td>0.007846</td>\n",
       "    </tr>\n",
       "    <tr>\n",
       "      <th>Q4</th>\n",
       "      <td>0.028263</td>\n",
       "      <td>0.011738</td>\n",
       "      <td>0.617803</td>\n",
       "      <td>0.009188</td>\n",
       "      <td>-0.006491</td>\n",
       "    </tr>\n",
       "    <tr>\n",
       "      <th>Q5</th>\n",
       "      <td>-0.614208</td>\n",
       "      <td>0.036702</td>\n",
       "      <td>0.011489</td>\n",
       "      <td>-0.016446</td>\n",
       "      <td>0.126815</td>\n",
       "    </tr>\n",
       "    <tr>\n",
       "      <th>Q6</th>\n",
       "      <td>-0.241929</td>\n",
       "      <td>0.391157</td>\n",
       "      <td>-0.038612</td>\n",
       "      <td>-0.025445</td>\n",
       "      <td>0.033746</td>\n",
       "    </tr>\n",
       "    <tr>\n",
       "      <th>Q7</th>\n",
       "      <td>-0.145393</td>\n",
       "      <td>0.061288</td>\n",
       "      <td>-0.022940</td>\n",
       "      <td>0.579074</td>\n",
       "      <td>0.080511</td>\n",
       "    </tr>\n",
       "    <tr>\n",
       "      <th>Q8</th>\n",
       "      <td>-0.009154</td>\n",
       "      <td>0.011917</td>\n",
       "      <td>0.746069</td>\n",
       "      <td>0.035918</td>\n",
       "      <td>-0.053014</td>\n",
       "    </tr>\n",
       "    <tr>\n",
       "      <th>Q9</th>\n",
       "      <td>0.457473</td>\n",
       "      <td>-0.002532</td>\n",
       "      <td>-0.117707</td>\n",
       "      <td>-0.036754</td>\n",
       "      <td>0.135558</td>\n",
       "    </tr>\n",
       "    <tr>\n",
       "      <th>Q10</th>\n",
       "      <td>0.117433</td>\n",
       "      <td>0.824852</td>\n",
       "      <td>0.088709</td>\n",
       "      <td>0.023160</td>\n",
       "      <td>-0.265092</td>\n",
       "    </tr>\n",
       "    <tr>\n",
       "      <th>Q11</th>\n",
       "      <td>0.126038</td>\n",
       "      <td>0.061318</td>\n",
       "      <td>-0.065978</td>\n",
       "      <td>-0.586525</td>\n",
       "      <td>0.097344</td>\n",
       "    </tr>\n",
       "    <tr>\n",
       "      <th>Q12</th>\n",
       "      <td>-0.146163</td>\n",
       "      <td>-0.056319</td>\n",
       "      <td>0.654089</td>\n",
       "      <td>0.086335</td>\n",
       "      <td>-0.026333</td>\n",
       "    </tr>\n",
       "    <tr>\n",
       "      <th>Q13</th>\n",
       "      <td>-0.606159</td>\n",
       "      <td>0.058412</td>\n",
       "      <td>-0.020809</td>\n",
       "      <td>0.028522</td>\n",
       "      <td>0.078592</td>\n",
       "    </tr>\n",
       "    <tr>\n",
       "      <th>Q14</th>\n",
       "      <td>-0.103940</td>\n",
       "      <td>0.693506</td>\n",
       "      <td>-0.017399</td>\n",
       "      <td>0.057168</td>\n",
       "      <td>-0.186349</td>\n",
       "    </tr>\n",
       "    <tr>\n",
       "      <th>Q15</th>\n",
       "      <td>0.018424</td>\n",
       "      <td>0.079250</td>\n",
       "      <td>-0.032350</td>\n",
       "      <td>0.624711</td>\n",
       "      <td>0.286541</td>\n",
       "    </tr>\n",
       "    <tr>\n",
       "      <th>Q16</th>\n",
       "      <td>0.081988</td>\n",
       "      <td>0.073929</td>\n",
       "      <td>-0.567370</td>\n",
       "      <td>0.039879</td>\n",
       "      <td>0.342635</td>\n",
       "    </tr>\n",
       "    <tr>\n",
       "      <th>Q17</th>\n",
       "      <td>0.766605</td>\n",
       "      <td>0.094645</td>\n",
       "      <td>-0.011347</td>\n",
       "      <td>-0.009461</td>\n",
       "      <td>0.055181</td>\n",
       "    </tr>\n",
       "    <tr>\n",
       "      <th>Q18</th>\n",
       "      <td>0.177236</td>\n",
       "      <td>0.844255</td>\n",
       "      <td>0.018533</td>\n",
       "      <td>0.015055</td>\n",
       "      <td>-0.192416</td>\n",
       "    </tr>\n",
       "    <tr>\n",
       "      <th>Q19</th>\n",
       "      <td>-0.160023</td>\n",
       "      <td>0.098954</td>\n",
       "      <td>0.066779</td>\n",
       "      <td>-0.465554</td>\n",
       "      <td>0.207249</td>\n",
       "    </tr>\n",
       "    <tr>\n",
       "      <th>Q20</th>\n",
       "      <td>0.084709</td>\n",
       "      <td>-0.042095</td>\n",
       "      <td>0.775277</td>\n",
       "      <td>-0.061046</td>\n",
       "      <td>-0.008778</td>\n",
       "    </tr>\n",
       "    <tr>\n",
       "      <th>Q21</th>\n",
       "      <td>-0.595836</td>\n",
       "      <td>0.063343</td>\n",
       "      <td>0.043711</td>\n",
       "      <td>0.124638</td>\n",
       "      <td>0.277913</td>\n",
       "    </tr>\n",
       "    <tr>\n",
       "      <th>Q22</th>\n",
       "      <td>0.037713</td>\n",
       "      <td>-0.384902</td>\n",
       "      <td>0.018732</td>\n",
       "      <td>0.027727</td>\n",
       "      <td>0.455349</td>\n",
       "    </tr>\n",
       "    <tr>\n",
       "      <th>Q23</th>\n",
       "      <td>0.074934</td>\n",
       "      <td>-0.016282</td>\n",
       "      <td>0.024799</td>\n",
       "      <td>0.437599</td>\n",
       "      <td>0.322577</td>\n",
       "    </tr>\n",
       "    <tr>\n",
       "      <th>Q24</th>\n",
       "      <td>0.174794</td>\n",
       "      <td>0.046334</td>\n",
       "      <td>0.454492</td>\n",
       "      <td>0.003206</td>\n",
       "      <td>0.174792</td>\n",
       "    </tr>\n",
       "    <tr>\n",
       "      <th>Q25</th>\n",
       "      <td>0.706254</td>\n",
       "      <td>0.014145</td>\n",
       "      <td>0.045222</td>\n",
       "      <td>-0.077592</td>\n",
       "      <td>0.128559</td>\n",
       "    </tr>\n",
       "    <tr>\n",
       "      <th>Q26</th>\n",
       "      <td>-0.049459</td>\n",
       "      <td>0.681299</td>\n",
       "      <td>0.021080</td>\n",
       "      <td>0.042180</td>\n",
       "      <td>-0.044035</td>\n",
       "    </tr>\n",
       "    <tr>\n",
       "      <th>Q27</th>\n",
       "      <td>0.048397</td>\n",
       "      <td>0.004015</td>\n",
       "      <td>-0.022151</td>\n",
       "      <td>-0.569437</td>\n",
       "      <td>0.121001</td>\n",
       "    </tr>\n",
       "    <tr>\n",
       "      <th>Q28</th>\n",
       "      <td>-0.103475</td>\n",
       "      <td>0.163588</td>\n",
       "      <td>0.224933</td>\n",
       "      <td>-0.183429</td>\n",
       "      <td>0.165081</td>\n",
       "    </tr>\n",
       "    <tr>\n",
       "      <th>Q29</th>\n",
       "      <td>0.586855</td>\n",
       "      <td>0.087567</td>\n",
       "      <td>0.190077</td>\n",
       "      <td>0.111671</td>\n",
       "      <td>0.097736</td>\n",
       "    </tr>\n",
       "    <tr>\n",
       "      <th>Q30</th>\n",
       "      <td>0.034730</td>\n",
       "      <td>0.493917</td>\n",
       "      <td>-0.106251</td>\n",
       "      <td>-0.014696</td>\n",
       "      <td>0.061392</td>\n",
       "    </tr>\n",
       "    <tr>\n",
       "      <th>Q31</th>\n",
       "      <td>0.070732</td>\n",
       "      <td>0.098835</td>\n",
       "      <td>0.082557</td>\n",
       "      <td>0.655513</td>\n",
       "      <td>0.258406</td>\n",
       "    </tr>\n",
       "  </tbody>\n",
       "</table>\n",
       "</div>"
      ],
      "text/plain": [
       "        fact0     fact1     fact2     fact3     fact4\n",
       "Q1   0.677369  0.037043 -0.022737 -0.025560  0.040968\n",
       "Q2  -0.009393  0.682098  0.002697  0.015884 -0.277694\n",
       "Q3  -0.105992  0.011391  0.075959 -0.513084  0.007846\n",
       "Q4   0.028263  0.011738  0.617803  0.009188 -0.006491\n",
       "Q5  -0.614208  0.036702  0.011489 -0.016446  0.126815\n",
       "Q6  -0.241929  0.391157 -0.038612 -0.025445  0.033746\n",
       "Q7  -0.145393  0.061288 -0.022940  0.579074  0.080511\n",
       "Q8  -0.009154  0.011917  0.746069  0.035918 -0.053014\n",
       "Q9   0.457473 -0.002532 -0.117707 -0.036754  0.135558\n",
       "Q10  0.117433  0.824852  0.088709  0.023160 -0.265092\n",
       "Q11  0.126038  0.061318 -0.065978 -0.586525  0.097344\n",
       "Q12 -0.146163 -0.056319  0.654089  0.086335 -0.026333\n",
       "Q13 -0.606159  0.058412 -0.020809  0.028522  0.078592\n",
       "Q14 -0.103940  0.693506 -0.017399  0.057168 -0.186349\n",
       "Q15  0.018424  0.079250 -0.032350  0.624711  0.286541\n",
       "Q16  0.081988  0.073929 -0.567370  0.039879  0.342635\n",
       "Q17  0.766605  0.094645 -0.011347 -0.009461  0.055181\n",
       "Q18  0.177236  0.844255  0.018533  0.015055 -0.192416\n",
       "Q19 -0.160023  0.098954  0.066779 -0.465554  0.207249\n",
       "Q20  0.084709 -0.042095  0.775277 -0.061046 -0.008778\n",
       "Q21 -0.595836  0.063343  0.043711  0.124638  0.277913\n",
       "Q22  0.037713 -0.384902  0.018732  0.027727  0.455349\n",
       "Q23  0.074934 -0.016282  0.024799  0.437599  0.322577\n",
       "Q24  0.174794  0.046334  0.454492  0.003206  0.174792\n",
       "Q25  0.706254  0.014145  0.045222 -0.077592  0.128559\n",
       "Q26 -0.049459  0.681299  0.021080  0.042180 -0.044035\n",
       "Q27  0.048397  0.004015 -0.022151 -0.569437  0.121001\n",
       "Q28 -0.103475  0.163588  0.224933 -0.183429  0.165081\n",
       "Q29  0.586855  0.087567  0.190077  0.111671  0.097736\n",
       "Q30  0.034730  0.493917 -0.106251 -0.014696  0.061392\n",
       "Q31  0.070732  0.098835  0.082557  0.655513  0.258406"
      ]
     },
     "execution_count": 12,
     "metadata": {},
     "output_type": "execute_result"
    }
   ],
   "source": [
    "# 因子負荷量の取得とデータフレーム型への格納\n",
    "colnames = [f\"fact{i}\" for i in range(n_fact)]\n",
    "loadings = pd.DataFrame(fa.loadings_, index=df.columns, columns=colnames)\n",
    "loadings"
   ]
  },
  {
   "cell_type": "code",
   "execution_count": 16,
   "metadata": {
    "id": "5n9Y2G5ni4yR"
   },
   "outputs": [
    {
     "data": {
      "image/png": "[encoded data removed]",
      "text/plain": [
       "<Figure size 500x1000 with 1 Axes>"
      ]
     },
     "metadata": {},
     "output_type": "display_data"
    }
   ],
   "source": [
    "# 観測変数ごとの因子負荷量の棒グラフの描画\n",
    "fig = plt.figure(figsize=(5,10))\n",
    "ax = fig.add_subplot()\n",
    "\n",
    "loadings.plot.barh(width=1, align=\"edge\", ax=ax)\n",
    "# loadings[\"因子0\"].plot.barh(ax=ax) # 特定の因子だけを表示する際はこちらを使う\n",
    "\n",
    "ref =0.4\n",
    "\n",
    "ax.legend(bbox_to_anchor=(1.05, 1))\n",
    "ax.set_xlim(xmin=-1, xmax=1)\n",
    "ax.grid()\n",
    "plt.show()"
   ]
  },
  {
   "cell_type": "markdown",
   "metadata": {
    "id": "vPkVyQtPi4yR"
   },
   "source": [
    "因子負荷量の基準値は0.4と設定した。"
   ]
  },
  {
   "cell_type": "markdown",
   "metadata": {
    "id": "fUDBr_L8i4yR"
   },
   "source": [
    "### 因子への命名"
   ]
  },
  {
   "cell_type": "code",
   "execution_count": 18,
   "metadata": {
    "id": "XtKBnDNZi4yR"
   },
   "outputs": [
    {
     "name": "stdout",
     "output_type": "stream",
     "text": [
      "Q1     0.677369\n",
      "Q5    -0.614208\n",
      "Q9     0.457473\n",
      "Q13   -0.606159\n",
      "Q17    0.766605\n",
      "Q21   -0.595836\n",
      "Q25    0.706254\n",
      "Q29    0.586855\n",
      "Name: fact0, dtype: float64\n",
      "Q2     0.682098\n",
      "Q10    0.824852\n",
      "Q14    0.693506\n",
      "Q18    0.844255\n",
      "Q26    0.681299\n",
      "Q30    0.493917\n",
      "Name: fact1, dtype: float64\n",
      "Q4     0.617803\n",
      "Q8     0.746069\n",
      "Q12    0.654089\n",
      "Q16   -0.567370\n",
      "Q20    0.775277\n",
      "Q24    0.454492\n",
      "Name: fact2, dtype: float64\n",
      "Q3    -0.513084\n",
      "Q7     0.579074\n",
      "Q11   -0.586525\n",
      "Q15    0.624711\n",
      "Q19   -0.465554\n",
      "Q23    0.437599\n",
      "Q27   -0.569437\n",
      "Q31    0.655513\n",
      "Name: fact3, dtype: float64\n",
      "Q22    0.455349\n",
      "Name: fact4, dtype: float64\n"
     ]
    }
   ],
   "source": [
    "# 因子ごとに因子負荷量が基準値を上回る観測変数を表示\n",
    "for i in range(n_fact):\n",
    "    fact_num = f\"fact{i}\"\n",
    "    sig_var = loadings.query(f\"{fact_num}.abs() >= {ref}\")[fact_num]# ここを実装する\n",
    "    print(sig_var)"
   ]
  },
  {
   "cell_type": "markdown",
   "metadata": {
    "id": "kWnuJJc3i4yR"
   },
   "source": [
    "第1因子は Pragmatic。  \n",
    "第2因子は self-Remedial Humorist。  \n",
    "第3因子は Self-Deprecating Humor Enthusiast。  \n",
    "第4因子は Respectful Comedian。 \n",
    "第5因子は Humor Impaired \n",
    "以上から、因子名を以下のように命名する。\n",
    "\n",
    "* 第1因子 : Pragmatic\n",
    "* 第2因子 : self-Remedial Humorist\n",
    "* 第3因子 : Self-Deprecating Humor Enthusiast\n",
    "* 第4因子 : Respectful Comedian\n",
    "* 第5因子 : Humor Impaired\n"
   ]
  },
  {
   "cell_type": "code",
   "execution_count": 101,
   "metadata": {
    "id": "5D05SfKZi4yR"
   },
   "outputs": [],
   "source": [
    "# 因子への命名\n",
    "fact_names = [\"Pragmatic\",\"self-Remedial Humorist\",\"Self-Deprecating Humor Enthusiast\",\"Respectful Comedian\",\"Humor Impaired\"]"
   ]
  },
  {
   "cell_type": "markdown",
   "metadata": {
    "id": "9dxlBcnoi4yR"
   },
   "source": [
    "###  因子得点の推定をする関数の定義"
   ]
  },
  {
   "cell_type": "code",
   "execution_count": 85,
   "metadata": {},
   "outputs": [],
   "source": [
    "questions = [\n",
    "    \"Q1 . I usually don't laugh or joke around much with other people.\",\n",
    "    \"Q2 . If I am feeling depressed, I can usually cheer myself up with humor.\",\n",
    "    \"Q3 . If someone makes a mistake, I will often tease them about it.\",\n",
    "    \"Q4 . I let people laugh at me or make fun at my expense more than I should.\",\n",
    "    \"Q5 . I don't have to work very hard at making other people laugh—I seem to be a naturally humorous person.\",\n",
    "    \"Q6 . Even when I'm by myself, I'm often amused by the absurdities of life.\",\n",
    "    \"Q7 . People are never offended or hurt by my sense of humor.\",\n",
    "    \"Q8 . I will often get carried away in putting myself down if it makes my family or friends laugh.\",\n",
    "    \"Q9 . I rarely make other people laugh by telling funny stories about myself.\",\n",
    "    \"Q10. If I am feeling upset or unhappy I usually try to think of something funny about the situation to make myself feel better.\",\n",
    "    \"Q11. When telling jokes or saying funny things, I am usually not very concerned about how other people are taking it.\",\n",
    "    \"Q12. I often try to make people like or accept me more by saying something funny about my own weaknesses, blunders, or faults.\",\n",
    "    \"Q13. I laugh and joke a lot with my closest friends.\",\n",
    "    \"Q14. My humorous outlook on life keeps me from getting overly upset or depressed about things.\",\n",
    "    \"Q15. I do not like it when people use humor as a way of criticizing or putting someone down.\",\n",
    "    \"Q16. I don't often say funny things to put myself down.\",\n",
    "    \"Q17. I usually don't like to tell jokes or amuse people.\",\n",
    "    \"Q18. If I'm by myself and I'm feeling unhappy, I make an effort to think of something funny to cheer myself up.\",\n",
    "    \"Q19. Sometimes I think of something that is so funny that I can't stop myself from saying it, even if it is not appropriate for the situation.\",\n",
    "    \"Q20. I often go overboard in putting myself down when I am making jokes or trying to be funny.\",\n",
    "    \"Q21. I enjoy making people laugh.\",\n",
    "    \"Q22. If I am feeling sad or upset, I usually lose my sense of humor.\",\n",
    "    \"Q23. I never participate in laughing at others even if all my friends are doing it.\",\n",
    "    \"Q24. When I am with friends or family, I often seem to be the one that other people make fun of or joke about.\",\n",
    "    \"Q25. I don't often joke around with my friends.\",\n",
    "    \"Q26. It is my experience that thinking about some amusing aspect of a situation is often a very effective way of coping with problems.\",\n",
    "    \"Q27. If I don't like someone, I often use humor or teasing to put them down.\",\n",
    "    \"Q28. If I am having problems or feeling unhappy, I often cover it up by joking around, so that even my closest friends don't know how I really feel.\",\n",
    "    \"Q29. I usually can't think of witty things to say when I'm with other people.\",\n",
    "    \"Q30. I don't need to be with other people to feel amused—I can usually find things to laugh about even when I'm by myself.\",\n",
    "    \"Q31. Even if something is really funny to me, I will not laugh or joke about it if someone will be offended.\",\n",
    "]\n",
    "# questions = [\n",
    "#     \"Q1. I usually don't laugh or joke around much with other people.\",\n",
    "#     \"Q2. If I am feeling depressed, I can usually cheer myself up with humor.\",\n",
    "#     \"Q3. If someone makes a mistake, I will often tease them about it.\",\n",
    "#     \"Q4. I let people laugh at me or make fun at my expense more than I should.\",\n",
    "#     \"Q5. I don't have to work very hard at making other people laugh—I seem to be a naturally humorous person.\"    \n",
    "# ]\n",
    "\n"
   ]
  },
  {
   "cell_type": "code",
   "execution_count": 2,
   "metadata": {},
   "outputs": [],
   "source": [
    "import streamlit as st\n",
    "import pandas as pd\n",
    "from sklearn.decomposition import FactorAnalysis\n",
    "\n",
    "\n",
    "def analyze(questions, fact_names):\n",
    "    answer = {}\n",
    "    grade = \"\\n1:当てはまらない\\n2:あまり当てはまらない\\n3:時々当てはまる,\\n4:当てはまる\\n5:とても当てはまる\"\n",
    "    for q in questions:\n",
    "        a = st.number_input(q+grade, min_value=1, max_value=5, step=1)\n",
    "        answer[q[:3]] = [a]\n",
    "\n",
    "    answer = pd.DataFrame(answer)\n",
    "    fa = FactorAnalysis(n_components=len(fact_names), random_state=42)\n",
    "    fa.fit(answer)\n",
    "    score = fa.transform(answer)\n",
    "    score = pd.DataFrame(score)\n",
    "    score.columns = fact_names\n",
    "\n",
    "    return score\n",
    "\n",
    "# Streamlit UI\n",
    "st.title(\"Factor Analysis App\")\n",
    "\n",
    "# Run the analysis when the button is clicked\n",
    "if st.button(\"Run Analysis\"):\n",
    "    score = analyze(questions, fact_names)\n",
    "    st.write(\"Factor Scores:\")\n",
    "    st.write(score)\n"
   ]
  },
  {
   "cell_type": "code",
   "execution_count": 102,
   "metadata": {
    "id": "4yFJCm3Di4yR"
   },
   "outputs": [],
   "source": [
    "# # 関数の定義\n",
    "# def analyze():\n",
    "#     answer = {}\n",
    "#     grade = \"\\n1:当てはまらない\\n2:あまり当てはまらない\\n3:時々当てはまる,\\n4:当てはまる\\n5:とても当てはまる\"\n",
    "#     for q in questions:\n",
    "#         a = input(q+grade)\n",
    "#         a = int(a)\n",
    "#         answer[q[:3]] = [a]\n",
    "\n",
    "#     answer = pd.DataFrame(answer)\n",
    "#     score = fa.transform(answer)\n",
    "#     score = pd.DataFrame(score)\n",
    "#     score.columns = fact_names\n",
    "\n",
    "#     return score"
   ]
  },
  {
   "cell_type": "code",
   "execution_count": 4,
   "metadata": {
    "id": "0IJJGGxri4yR"
   },
   "outputs": [
    {
     "name": "stderr",
     "output_type": "stream",
     "text": [
      "C:\\Users\\kim\\miniconda3\\envs\\ztm\\Lib\\site-packages\\sklearn\\decomposition\\_factor_analysis.py:283: RuntimeWarning: divide by zero encountered in log\n",
      "  ll = llconst + np.sum(np.log(s))\n",
      "C:\\Users\\kim\\miniconda3\\envs\\ztm\\Lib\\site-packages\\sklearn\\decomposition\\_factor_analysis.py:287: RuntimeWarning: invalid value encountered in scalar subtract\n",
      "  if (ll - old_ll) < self.tol:\n",
      "C:\\Users\\kim\\miniconda3\\envs\\ztm\\Lib\\site-packages\\sklearn\\decomposition\\_factor_analysis.py:293: ConvergenceWarning: FactorAnalysis did not converge. You might want to increase the number of iterations.\n",
      "  warnings.warn(\n"
     ]
    },
    {
     "ename": "ValueError",
     "evalue": "Length mismatch: Expected axis has 1 elements, new values have 3 elements",
     "output_type": "error",
     "traceback": [
      "\u001b[1;31m---------------------------------------------------------------------------\u001b[0m",
      "\u001b[1;31mValueError\u001b[0m                                Traceback (most recent call last)",
      "Cell \u001b[1;32mIn[4], line 2\u001b[0m\n\u001b[0;32m      1\u001b[0m \u001b[38;5;66;03m# 関数の動作確認\u001b[39;00m\n\u001b[1;32m----> 2\u001b[0m analyze(questions,fact_names)\n",
      "Cell \u001b[1;32mIn[2], line 18\u001b[0m, in \u001b[0;36manalyze\u001b[1;34m(questions, fact_names)\u001b[0m\n\u001b[0;32m     16\u001b[0m score \u001b[38;5;241m=\u001b[39m fa\u001b[38;5;241m.\u001b[39mtransform(answer)\n\u001b[0;32m     17\u001b[0m score \u001b[38;5;241m=\u001b[39m pd\u001b[38;5;241m.\u001b[39mDataFrame(score)\n\u001b[1;32m---> 18\u001b[0m score\u001b[38;5;241m.\u001b[39mcolumns \u001b[38;5;241m=\u001b[39m fact_names\n\u001b[0;32m     20\u001b[0m \u001b[38;5;28;01mreturn\u001b[39;00m score\n",
      "File \u001b[1;32m~\\miniconda3\\envs\\ztm\\Lib\\site-packages\\pandas\\core\\generic.py:6002\u001b[0m, in \u001b[0;36mNDFrame.__setattr__\u001b[1;34m(self, name, value)\u001b[0m\n\u001b[0;32m   6000\u001b[0m \u001b[38;5;28;01mtry\u001b[39;00m:\n\u001b[0;32m   6001\u001b[0m     \u001b[38;5;28mobject\u001b[39m\u001b[38;5;241m.\u001b[39m\u001b[38;5;21m__getattribute__\u001b[39m(\u001b[38;5;28mself\u001b[39m, name)\n\u001b[1;32m-> 6002\u001b[0m     \u001b[38;5;28;01mreturn\u001b[39;00m \u001b[38;5;28mobject\u001b[39m\u001b[38;5;241m.\u001b[39m\u001b[38;5;21m__setattr__\u001b[39m(\u001b[38;5;28mself\u001b[39m, name, value)\n\u001b[0;32m   6003\u001b[0m \u001b[38;5;28;01mexcept\u001b[39;00m \u001b[38;5;167;01mAttributeError\u001b[39;00m:\n\u001b[0;32m   6004\u001b[0m     \u001b[38;5;28;01mpass\u001b[39;00m\n",
      "File \u001b[1;32m~\\miniconda3\\envs\\ztm\\Lib\\site-packages\\pandas\\_libs\\properties.pyx:69\u001b[0m, in \u001b[0;36mpandas._libs.properties.AxisProperty.__set__\u001b[1;34m()\u001b[0m\n",
      "File \u001b[1;32m~\\miniconda3\\envs\\ztm\\Lib\\site-packages\\pandas\\core\\generic.py:730\u001b[0m, in \u001b[0;36mNDFrame._set_axis\u001b[1;34m(self, axis, labels)\u001b[0m\n\u001b[0;32m    725\u001b[0m \u001b[38;5;250m\u001b[39m\u001b[38;5;124;03m\"\"\"\u001b[39;00m\n\u001b[0;32m    726\u001b[0m \u001b[38;5;124;03mThis is called from the cython code when we set the `index` attribute\u001b[39;00m\n\u001b[0;32m    727\u001b[0m \u001b[38;5;124;03mdirectly, e.g. `series.index = [1, 2, 3]`.\u001b[39;00m\n\u001b[0;32m    728\u001b[0m \u001b[38;5;124;03m\"\"\"\u001b[39;00m\n\u001b[0;32m    729\u001b[0m labels \u001b[38;5;241m=\u001b[39m ensure_index(labels)\n\u001b[1;32m--> 730\u001b[0m \u001b[38;5;28mself\u001b[39m\u001b[38;5;241m.\u001b[39m_mgr\u001b[38;5;241m.\u001b[39mset_axis(axis, labels)\n\u001b[0;32m    731\u001b[0m \u001b[38;5;28mself\u001b[39m\u001b[38;5;241m.\u001b[39m_clear_item_cache()\n",
      "File \u001b[1;32m~\\miniconda3\\envs\\ztm\\Lib\\site-packages\\pandas\\core\\internals\\managers.py:225\u001b[0m, in \u001b[0;36mBaseBlockManager.set_axis\u001b[1;34m(self, axis, new_labels)\u001b[0m\n\u001b[0;32m    223\u001b[0m \u001b[38;5;28;01mdef\u001b[39;00m \u001b[38;5;21mset_axis\u001b[39m(\u001b[38;5;28mself\u001b[39m, axis: AxisInt, new_labels: Index) \u001b[38;5;241m-\u001b[39m\u001b[38;5;241m>\u001b[39m \u001b[38;5;28;01mNone\u001b[39;00m:\n\u001b[0;32m    224\u001b[0m     \u001b[38;5;66;03m# Caller is responsible for ensuring we have an Index object.\u001b[39;00m\n\u001b[1;32m--> 225\u001b[0m     \u001b[38;5;28mself\u001b[39m\u001b[38;5;241m.\u001b[39m_validate_set_axis(axis, new_labels)\n\u001b[0;32m    226\u001b[0m     \u001b[38;5;28mself\u001b[39m\u001b[38;5;241m.\u001b[39maxes[axis] \u001b[38;5;241m=\u001b[39m new_labels\n",
      "File \u001b[1;32m~\\miniconda3\\envs\\ztm\\Lib\\site-packages\\pandas\\core\\internals\\base.py:70\u001b[0m, in \u001b[0;36mDataManager._validate_set_axis\u001b[1;34m(self, axis, new_labels)\u001b[0m\n\u001b[0;32m     67\u001b[0m     \u001b[38;5;28;01mpass\u001b[39;00m\n\u001b[0;32m     69\u001b[0m \u001b[38;5;28;01melif\u001b[39;00m new_len \u001b[38;5;241m!=\u001b[39m old_len:\n\u001b[1;32m---> 70\u001b[0m     \u001b[38;5;28;01mraise\u001b[39;00m \u001b[38;5;167;01mValueError\u001b[39;00m(\n\u001b[0;32m     71\u001b[0m         \u001b[38;5;124mf\u001b[39m\u001b[38;5;124m\"\u001b[39m\u001b[38;5;124mLength mismatch: Expected axis has \u001b[39m\u001b[38;5;132;01m{\u001b[39;00mold_len\u001b[38;5;132;01m}\u001b[39;00m\u001b[38;5;124m elements, new \u001b[39m\u001b[38;5;124m\"\u001b[39m\n\u001b[0;32m     72\u001b[0m         \u001b[38;5;124mf\u001b[39m\u001b[38;5;124m\"\u001b[39m\u001b[38;5;124mvalues have \u001b[39m\u001b[38;5;132;01m{\u001b[39;00mnew_len\u001b[38;5;132;01m}\u001b[39;00m\u001b[38;5;124m elements\u001b[39m\u001b[38;5;124m\"\u001b[39m\n\u001b[0;32m     73\u001b[0m     )\n",
      "\u001b[1;31mValueError\u001b[0m: Length mismatch: Expected axis has 1 elements, new values have 3 elements"
     ]
    }
   ],
   "source": [
    "# 関数の動作確認\n",
    "analyze(questions,fact_names)"
   ]
  },
  {
   "cell_type": "markdown",
   "metadata": {
    "id": "ql9X5Uldi4yS"
   },
   "source": [
    "### モデルのファイルへの保存"
   ]
  },
  {
   "cell_type": "code",
   "execution_count": 104,
   "metadata": {
    "id": "i2d1tBqMi4yS"
   },
   "outputs": [],
   "source": [
    "import pickle\n",
    "\n",
    "with open(\"fa_model.pkl\", \"wb\") as f:\n",
    "    pickle.dump(fa, f)"
   ]
  },
  {
   "cell_type": "code",
   "execution_count": null,
   "metadata": {},
   "outputs": [],
   "source": []
  }
 ],
 "metadata": {
  "colab": {
   "provenance": []
  },
  "kernelspec": {
   "display_name": "Python 3 (ipykernel)",
   "language": "python",
   "name": "python3"
  },
  "language_info": {
   "codemirror_mode": {
    "name": "ipython",
    "version": 3
   },
   "file_extension": ".py",
   "mimetype": "text/x-python",
   "name": "python",
   "nbconvert_exporter": "python",
   "pygments_lexer": "ipython3",
   "version": "3.11.4"
  },
  "vscode": {
   "interpreter": {
    "hash": "5d8d05cd66af3587b05ded6bcc7ddece24cc74fe71649ec047644aa7aa648a4f"
   }
  }
 },
 "nbformat": 4,
 "nbformat_minor": 1
}
